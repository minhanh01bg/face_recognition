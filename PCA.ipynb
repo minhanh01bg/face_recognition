{
 "cells": [
  {
   "cell_type": "code",
   "execution_count": 1,
   "metadata": {},
   "outputs": [
    {
     "name": "stderr",
     "output_type": "stream",
     "text": [
      "C:\\Users\\vuanh\\AppData\\Local\\Temp\\ipykernel_16312\\3021059215.py:2: DeprecationWarning: \n",
      "Pyarrow will become a required dependency of pandas in the next major release of pandas (pandas 3.0),\n",
      "(to allow more performant data types, such as the Arrow string type, and better interoperability with other libraries)\n",
      "but was not found to be installed on your system.\n",
      "If this would cause problems for you,\n",
      "please provide us feedback at https://github.com/pandas-dev/pandas/issues/54466\n",
      "        \n",
      "  import pandas as pd\n"
     ]
    }
   ],
   "source": [
    "import numpy as np\n",
    "import pandas as pd\n",
    "from sklearn.datasets import load_breast_cancer"
   ]
  },
  {
   "cell_type": "code",
   "execution_count": 2,
   "metadata": {},
   "outputs": [],
   "source": [
    "cancer = load_breast_cancer(as_frame=True)\n",
    "df = cancer.frame"
   ]
  },
  {
   "cell_type": "code",
   "execution_count": 3,
   "metadata": {},
   "outputs": [
    {
     "name": "stdout",
     "output_type": "stream",
     "text": [
      "shape:  (569, 31)\n",
      "Shape:  (569, 30)\n"
     ]
    }
   ],
   "source": [
    "print('shape: ', df.shape)\n",
    "X = df[cancer.feature_names]\n",
    "print('Shape: ', X.shape)"
   ]
  },
  {
   "cell_type": "code",
   "execution_count": 9,
   "metadata": {},
   "outputs": [
    {
     "name": "stdout",
     "output_type": "stream",
     "text": [
      "mean radius                  3.524049\n",
      "mean texture                 4.301036\n",
      "mean perimeter              24.298981\n",
      "mean area                  351.914129\n",
      "mean smoothness              0.014064\n",
      "mean compactness             0.052813\n",
      "mean concavity               0.079720\n",
      "mean concave points          0.038803\n",
      "mean symmetry                0.027414\n",
      "mean fractal dimension       0.007060\n",
      "radius error                 0.277313\n",
      "texture error                0.551648\n",
      "perimeter error              2.021855\n",
      "area error                  45.491006\n",
      "smoothness error             0.003003\n",
      "compactness error            0.017908\n",
      "concavity error              0.030186\n",
      "concave points error         0.006170\n",
      "symmetry error               0.008266\n",
      "fractal dimension error      0.002646\n",
      "worst radius                 4.833242\n",
      "worst texture                6.146258\n",
      "worst perimeter             33.602542\n",
      "worst area                 569.356993\n",
      "worst smoothness             0.022832\n",
      "worst compactness            0.157336\n",
      "worst concavity              0.208624\n",
      "worst concave points         0.065732\n",
      "worst symmetry               0.061867\n",
      "worst fractal dimension      0.018061\n",
      "dtype: float64\n",
      "[3.5209507607110644, 4.297254637090423, 24.277619293053178, 351.6047540632298, 0.014051764066591194, 0.052766329125355164, 0.07964972534603187, 0.03876873246147474, 0.02739018086426853, 0.007054155881537345, 0.27706894152536543, 0.551163426903576, 2.020077099145524, 45.45101341563994, 0.002999878367114478, 0.017892435868281945, 0.030159523121970448, 0.006164860746471699, 0.008259104387588137, 0.0026437447504047366, 4.828992576060773, 6.140854318589001, 33.57300156682594, 568.8564589532673, 0.022812356935544648, 0.15719817109455367, 0.2084408746117061, 0.06567455451119318, 0.061813078544554825, 0.018045389308594978]\n"
     ]
    }
   ],
   "source": [
    "def mean_data(data):\n",
    "    mean = []\n",
    "    for i in range(data.shape[1]):\n",
    "        mean.append(np.mean(data[:,i]))\n",
    "    return mean\n",
    "\n",
    "def std_data(data):\n",
    "    std = []\n",
    "    mean = mean_data(data)\n",
    "    for i in range(data.shape[1]):\n",
    "        # std.append(np.std(data[:,i]))\n",
    "        s = 0\n",
    "        for j in range(data.shape[0]):\n",
    "            s = s + (data[j,i] - mean[i])**2\n",
    "        std.append(np.sqrt(s/data.shape[0]))\n",
    "    return std\n",
    "\n",
    "# print(X.mean())\n",
    "# print(mean_data(X.to_numpy()))\n",
    "print(X.std())\n",
    "print(std_data(X.to_numpy()))"
   ]
  }
 ],
 "metadata": {
  "kernelspec": {
   "display_name": "tensor",
   "language": "python",
   "name": "python3"
  },
  "language_info": {
   "codemirror_mode": {
    "name": "ipython",
    "version": 3
   },
   "file_extension": ".py",
   "mimetype": "text/x-python",
   "name": "python",
   "nbconvert_exporter": "python",
   "pygments_lexer": "ipython3",
   "version": "3.10.6"
  }
 },
 "nbformat": 4,
 "nbformat_minor": 2
}
