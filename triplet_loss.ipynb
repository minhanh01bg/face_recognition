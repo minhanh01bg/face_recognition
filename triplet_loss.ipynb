{
 "cells": [
  {
   "cell_type": "code",
   "execution_count": 1,
   "metadata": {},
   "outputs": [
    {
     "name": "stderr",
     "output_type": "stream",
     "text": [
      "C:\\Users\\vuanh\\AppData\\Local\\Temp\\ipykernel_20040\\149711296.py:5: DeprecationWarning: \n",
      "Pyarrow will become a required dependency of pandas in the next major release of pandas (pandas 3.0),\n",
      "(to allow more performant data types, such as the Arrow string type, and better interoperability with other libraries)\n",
      "but was not found to be installed on your system.\n",
      "If this would cause problems for you,\n",
      "please provide us feedback at https://github.com/pandas-dev/pandas/issues/54466\n",
      "        \n",
      "  import pandas as pd\n"
     ]
    }
   ],
   "source": [
    "# import tensorflow\n",
    "import cv2\n",
    "import os\n",
    "import numpy as np\n",
    "import pandas as pd\n",
    "import matplotlib.pyplot as plt\n",
    "from sklearn.model_selection import train_test_split\n",
    "from sklearn.decomposition import PCA\n",
    "import mglearn\n",
    "from sklearn.svm import SVC\n",
    "from sklearn import metrics\n",
    "from skimage.transform import resize\n",
    "import random\n",
    "import string"
   ]
  },
  {
   "cell_type": "code",
   "execution_count": 2,
   "metadata": {},
   "outputs": [],
   "source": [
    "data = np.load('./data/olivetti_faces.npy')\n",
    "labels = np.load('./data/olivetti_faces_target.npy')"
   ]
  },
  {
   "cell_type": "code",
   "execution_count": 3,
   "metadata": {},
   "outputs": [
    {
     "name": "stdout",
     "output_type": "stream",
     "text": [
      "(400, 64, 64)\n",
      "(400,)\n",
      "[ 0  1  2  3  4  5  6  7  8  9 10 11 12 13 14 15 16 17 18 19 20 21 22 23\n",
      " 24 25 26 27 28 29 30 31 32 33 34 35 36 37 38 39]\n"
     ]
    }
   ],
   "source": [
    "print(data.shape)\n",
    "print(labels.shape)\n",
    "print(np.unique(labels))\n",
    "# print(labels[50:100])"
   ]
  },
  {
   "cell_type": "code",
   "execution_count": 4,
   "metadata": {},
   "outputs": [
    {
     "name": "stdout",
     "output_type": "stream",
     "text": [
      "(400, 64, 64, 1)\n"
     ]
    }
   ],
   "source": [
    "data = data.reshape((data.shape[0], data.shape[1],data.shape[2],1))\n",
    "print(data.shape)"
   ]
  },
  {
   "cell_type": "code",
   "execution_count": 5,
   "metadata": {},
   "outputs": [
    {
     "name": "stdout",
     "output_type": "stream",
     "text": [
      "Model: \"model_1\"\n",
      "__________________________________________________________________________________________________\n",
      " Layer (type)                   Output Shape         Param #     Connected to                     \n",
      "==================================================================================================\n",
      " input_2 (InputLayer)           [(None, 64, 64, 1)]  0           []                               \n",
      "                                                                                                  \n",
      " input_3 (InputLayer)           [(None, 64, 64, 1)]  0           []                               \n",
      "                                                                                                  \n",
      " input_4 (InputLayer)           [(None, 64, 64, 1)]  0           []                               \n",
      "                                                                                                  \n",
      " model (Functional)             (None, 128)          682624      ['input_2[0][0]',                \n",
      "                                                                  'input_3[0][0]',                \n",
      "                                                                  'input_4[0][0]']                \n",
      "                                                                                                  \n",
      " tf.math.subtract (TFOpLambda)  (None, 128)          0           ['model[0][0]',                  \n",
      "                                                                  'model[1][0]']                  \n",
      "                                                                                                  \n",
      " tf.math.subtract_1 (TFOpLambda  (None, 128)         0           ['model[0][0]',                  \n",
      " )                                                                'model[2][0]']                  \n",
      "                                                                                                  \n",
      " tf.math.square (TFOpLambda)    (None, 128)          0           ['tf.math.subtract[0][0]']       \n",
      "                                                                                                  \n",
      " tf.math.square_1 (TFOpLambda)  (None, 128)          0           ['tf.math.subtract_1[0][0]']     \n",
      "                                                                                                  \n",
      " tf.math.reduce_sum (TFOpLambda  (None, 1)           0           ['tf.math.square[0][0]']         \n",
      " )                                                                                                \n",
      "                                                                                                  \n",
      " tf.math.reduce_sum_1 (TFOpLamb  (None, 1)           0           ['tf.math.square_1[0][0]']       \n",
      " da)                                                                                              \n",
      "                                                                                                  \n",
      " tf.__operators__.add (TFOpLamb  (None, 1)           0           ['tf.math.reduce_sum[0][0]']     \n",
      " da)                                                                                              \n",
      "                                                                                                  \n",
      " tf.__operators__.add_1 (TFOpLa  (None, 1)           0           ['tf.math.reduce_sum_1[0][0]']   \n",
      " mbda)                                                                                            \n",
      "                                                                                                  \n",
      " tf.math.sqrt (TFOpLambda)      (None, 1)            0           ['tf.__operators__.add[0][0]']   \n",
      "                                                                                                  \n",
      " tf.math.sqrt_1 (TFOpLambda)    (None, 1)            0           ['tf.__operators__.add_1[0][0]'] \n",
      "                                                                                                  \n",
      " tf.math.subtract_2 (TFOpLambda  (None, 1)           0           ['tf.math.sqrt[0][0]',           \n",
      " )                                                                'tf.math.sqrt_1[0][0]']         \n",
      "                                                                                                  \n",
      " tf.math.exp (TFOpLambda)       (None, 1)            0           ['tf.math.subtract_2[0][0]']     \n",
      "                                                                                                  \n",
      " tf.__operators__.add_2 (TFOpLa  (None, 1)           0           ['tf.math.exp[0][0]']            \n",
      " mbda)                                                                                            \n",
      "                                                                                                  \n",
      " tf.math.log (TFOpLambda)       (None, 1)            0           ['tf.__operators__.add_2[0][0]'] \n",
      "                                                                                                  \n",
      " tf.math.reduce_mean (TFOpLambd  ()                  0           ['tf.math.log[0][0]']            \n",
      " a)                                                                                               \n",
      "                                                                                                  \n",
      "==================================================================================================\n",
      "Total params: 682,624\n",
      "Trainable params: 682,624\n",
      "Non-trainable params: 0\n",
      "__________________________________________________________________________________________________\n"
     ]
    }
   ],
   "source": [
    "import tensorflow as tf\n",
    "from keras.models import Model\n",
    "from keras.layers import Input, Conv2D, MaxPooling2D, Flatten, Dense, Dropout\n",
    "\n",
    "def create_base_nerwork(input_shape):\n",
    "    inputs = Input(shape=input_shape)\n",
    "    x = Conv2D(32, (3, 3), activation='relu')(inputs)\n",
    "    x = MaxPooling2D(pool_size=(2, 2))(x)\n",
    "    x = Conv2D(64, (3, 3), activation='relu')(x)\n",
    "    x = MaxPooling2D(pool_size=(2, 2))(x)\n",
    "    x = Conv2D(128, (3, 3), activation='relu')(x)\n",
    "    x = MaxPooling2D(pool_size=(2, 2))(x)\n",
    "    x = Flatten()(x)\n",
    "    x = Dense(128, activation='relu')(x)\n",
    "    return Model(inputs, x)\n",
    "    \n",
    "def triplet_loss(inputs, dist='euclidean', margin='maxplus'):\n",
    "    anchor, positive, negative = inputs\n",
    "    positive_distance = tf.square(anchor - positive)\n",
    "    negative_distance = tf.square(anchor - negative)\n",
    "    \"\"\"_summary_\n",
    "        distance between two vectors with euclidean distance\n",
    "    Example:\n",
    "    v=(1,0,5)\n",
    "    w=(0,2,4)\n",
    "    => d(v,w)=sqrt((1-0)^2+(0-2)^2+(5-4)^2=sqrt(1^2+(-2)^2+1^2)=sqrt(1+4+1)=√6\n",
    "    \"\"\"\n",
    "    if dist == 'euclidean':\n",
    "        positive_distance = tf.sqrt(tf.reduce_sum(positive_distance, axis=-1, keepdims=True) + 1e-16)\n",
    "        negative_distance = tf.sqrt(tf.reduce_sum(negative_distance, axis=-1, keepdims=True) + 1e-16)\n",
    "    elif dist == 'sqeuclidean':\n",
    "        positive_distance = tf.reduce_sum(positive_distance, axis=-1, keepdims=True)\n",
    "        negative_distance = tf.reduce_sum(negative_distance, axis=-1, keepdims=True)\n",
    "    loss = positive_distance - negative_distance\n",
    "    # print(loss)\n",
    "    if margin == 'maxplus':\n",
    "        loss = tf.maximum(0.0, 2 + loss)\n",
    "    elif margin == 'softplus':\n",
    "        loss = tf.keras.backend.log(1 + tf.exp(loss))\n",
    "    return tf.reduce_mean(loss)\n",
    "\n",
    "def create_siamese_network(input_shape, base_network):\n",
    "    input_a = Input(shape=input_shape)\n",
    "    input_b = Input(shape=input_shape)\n",
    "    input_c = Input(shape=input_shape)\n",
    "    \n",
    "    processed_a = base_network(input_a)\n",
    "    processed_b = base_network(input_b)\n",
    "    processed_c = base_network(input_c)\n",
    "    \n",
    "    distance = triplet_loss([processed_a, processed_b, processed_c], dist='euclidean', margin='softplus')\n",
    "    # distance = triplet_loss([processed_a, processed_b, processed_c], dist='euclidean', margin='maxplus')\n",
    "    network = Model([input_a, input_b, input_c], distance)\n",
    "    return network\n",
    "\n",
    "input_shape = (64, 64, 1)\n",
    "base_network = create_base_nerwork(input_shape)\n",
    "siamese_network = create_siamese_network(input_shape, base_network)\n",
    "siamese_network.compile(loss='mse', optimizer='adam')\n",
    "siamese_network.summary()\n"
   ]
  },
  {
   "cell_type": "code",
   "execution_count": 6,
   "metadata": {},
   "outputs": [
    {
     "name": "stdout",
     "output_type": "stream",
     "text": [
      "num_classes: 40\n"
     ]
    }
   ],
   "source": [
    "def prepare_data_for_siamese(x_train, y_train):\n",
    "    triplets = []\n",
    "    num_classes = len(np.unique(y_train))\n",
    "    print('num_classes:', num_classes)\n",
    "    labels = []\n",
    "    for _ in range(0,num_classes):\n",
    "        # select anchor\n",
    "        anchor_class = _\n",
    "        negative_class = anchor_class\n",
    "        \n",
    "        # select double\n",
    "        indices = np.where(y_train == anchor_class)[0]\n",
    "        # print('indices:', indices)\n",
    "        for i in indices:\n",
    "            anchor_idx = i\n",
    "            positive_idx = np.random.choice(indices)\n",
    "            while positive_idx == anchor_idx:\n",
    "                positive_idx = np.random.choice(indices)\n",
    "                \n",
    "            while negative_class == anchor_class:\n",
    "                negative_class = np.random.randint(0, num_classes)\n",
    "            # print(negative_class)\n",
    "            negative_indices = np.where(y_train == negative_class)[0]\n",
    "            # print('negative_indices:', negative_indices)\n",
    "            for negative_idx in negative_indices:\n",
    "                triplets.append([x_train[anchor_idx], x_train[positive_idx], x_train[negative_idx]])\n",
    "                labels.append([anchor_idx, positive_idx, negative_idx])\n",
    "        # negative_idx = np.random.choice(negative_indices)\n",
    "        # triplets.append([x_train[anchor_idx], x_train[positive_idx], x_train[negative_idx]])\n",
    "    return np.array(triplets), np.array(labels)\n",
    "\n",
    "triplets,l = prepare_data_for_siamese(data, labels)\n",
    "# print('triplets shape:', triplets.shape)\n",
    "# print('labels:', l[110:450])"
   ]
  },
  {
   "cell_type": "code",
   "execution_count": 7,
   "metadata": {},
   "outputs": [
    {
     "name": "stdout",
     "output_type": "stream",
     "text": [
      "triplets shape: (4000, 3, 64, 64, 1)\n"
     ]
    }
   ],
   "source": [
    "print('triplets shape:', triplets.shape)\n",
    "# print('labels:', l[110:450])\n",
    "la = pd.DataFrame(l)\n",
    "\n",
    "la.to_csv('./models/labels.csv', index=False)"
   ]
  },
  {
   "cell_type": "code",
   "execution_count": 8,
   "metadata": {},
   "outputs": [
    {
     "name": "stdout",
     "output_type": "stream",
     "text": [
      "x_train shape: (3200, 3, 64, 64, 1)\n",
      "x_test shape: (800, 3, 64, 64, 1)\n"
     ]
    }
   ],
   "source": [
    "y = np.zeros((triplets.shape[0], 1))\n",
    "x_train, x_test, y_train, y_test = train_test_split(triplets, y, test_size=0.2, random_state=42)\n",
    "print('x_train shape:', x_train.shape)\n",
    "print('x_test shape:', x_test.shape)"
   ]
  },
  {
   "cell_type": "code",
   "execution_count": 33,
   "metadata": {},
   "outputs": [
    {
     "name": "stdout",
     "output_type": "stream",
     "text": [
      "Epoch 1/100\n",
      "100/100 [==============================] - 1s 6ms/step - loss: 2.6756e-06 - val_loss: 5.6125e-06\n",
      "Epoch 2/100\n",
      "100/100 [==============================] - 1s 5ms/step - loss: 2.1300e-06 - val_loss: 4.2509e-06\n",
      "Epoch 3/100\n",
      "100/100 [==============================] - 1s 5ms/step - loss: 1.4446e-06 - val_loss: 3.5632e-06\n",
      "Epoch 4/100\n",
      "100/100 [==============================] - 1s 5ms/step - loss: 1.1824e-06 - val_loss: 3.0041e-06\n",
      "Epoch 5/100\n",
      "100/100 [==============================] - 1s 5ms/step - loss: 9.9855e-07 - val_loss: 2.6025e-06\n",
      "Epoch 6/100\n",
      "100/100 [==============================] - 1s 5ms/step - loss: 7.5126e-07 - val_loss: 2.1057e-06\n",
      "Epoch 7/100\n",
      "100/100 [==============================] - 1s 5ms/step - loss: 6.1575e-07 - val_loss: 1.8328e-06\n",
      "Epoch 8/100\n",
      "100/100 [==============================] - 1s 6ms/step - loss: 4.7029e-07 - val_loss: 1.5396e-06\n",
      "Epoch 9/100\n",
      "100/100 [==============================] - 1s 6ms/step - loss: 4.4472e-07 - val_loss: 1.3530e-06\n",
      "Epoch 10/100\n",
      "100/100 [==============================] - 1s 5ms/step - loss: 3.4906e-07 - val_loss: 1.1810e-06\n",
      "Epoch 11/100\n",
      "100/100 [==============================] - 1s 5ms/step - loss: 3.0096e-07 - val_loss: 1.0452e-06\n",
      "Epoch 12/100\n",
      "100/100 [==============================] - 1s 5ms/step - loss: 2.5064e-07 - val_loss: 9.6996e-07\n",
      "Epoch 13/100\n",
      "100/100 [==============================] - 1s 5ms/step - loss: 2.3080e-07 - val_loss: 8.1009e-07\n",
      "Epoch 14/100\n",
      "100/100 [==============================] - 1s 5ms/step - loss: 1.8454e-07 - val_loss: 7.3531e-07\n",
      "Epoch 15/100\n",
      "100/100 [==============================] - 1s 5ms/step - loss: 1.7328e-07 - val_loss: 6.6661e-07\n",
      "Epoch 16/100\n",
      "100/100 [==============================] - 1s 5ms/step - loss: 1.4223e-07 - val_loss: 6.1214e-07\n",
      "Epoch 17/100\n",
      "100/100 [==============================] - 1s 5ms/step - loss: 1.3080e-07 - val_loss: 5.6261e-07\n",
      "Epoch 18/100\n",
      "100/100 [==============================] - 1s 5ms/step - loss: 1.3231e-07 - val_loss: 5.4180e-07\n",
      "Epoch 19/100\n",
      "100/100 [==============================] - 1s 6ms/step - loss: 1.0030e-07 - val_loss: 4.8701e-07\n",
      "Epoch 20/100\n",
      "100/100 [==============================] - 1s 6ms/step - loss: 9.0947e-08 - val_loss: 4.2269e-07\n",
      "Epoch 21/100\n",
      "100/100 [==============================] - 1s 6ms/step - loss: 8.3601e-08 - val_loss: 3.9548e-07\n",
      "Epoch 22/100\n",
      "100/100 [==============================] - 1s 5ms/step - loss: 8.3986e-08 - val_loss: 3.5324e-07\n",
      "Epoch 23/100\n",
      "100/100 [==============================] - 1s 5ms/step - loss: 6.3662e-08 - val_loss: 3.2667e-07\n",
      "Epoch 24/100\n",
      "100/100 [==============================] - 1s 5ms/step - loss: 6.0642e-08 - val_loss: 3.0972e-07\n",
      "Epoch 25/100\n",
      "100/100 [==============================] - 1s 5ms/step - loss: 5.4229e-08 - val_loss: 2.8611e-07\n",
      "Epoch 26/100\n",
      "100/100 [==============================] - 1s 5ms/step - loss: 4.9278e-08 - val_loss: 2.7002e-07\n",
      "Epoch 27/100\n",
      "100/100 [==============================] - 1s 5ms/step - loss: 4.2745e-08 - val_loss: 2.5162e-07\n",
      "Epoch 28/100\n",
      "100/100 [==============================] - 1s 5ms/step - loss: 3.8526e-08 - val_loss: 2.3354e-07\n",
      "Epoch 29/100\n",
      "100/100 [==============================] - 1s 5ms/step - loss: 3.7142e-08 - val_loss: 2.1799e-07\n",
      "Epoch 30/100\n",
      "100/100 [==============================] - 1s 5ms/step - loss: 3.7769e-08 - val_loss: 2.0421e-07\n",
      "Epoch 31/100\n",
      "100/100 [==============================] - 1s 5ms/step - loss: 3.2502e-08 - val_loss: 1.9617e-07\n",
      "Epoch 32/100\n",
      "100/100 [==============================] - 1s 5ms/step - loss: 2.9263e-08 - val_loss: 1.8528e-07\n",
      "Epoch 33/100\n",
      "100/100 [==============================] - 1s 5ms/step - loss: 2.7380e-08 - val_loss: 1.7934e-07\n",
      "Epoch 34/100\n",
      "100/100 [==============================] - 1s 5ms/step - loss: 2.5022e-08 - val_loss: 1.6907e-07\n",
      "Epoch 35/100\n",
      "100/100 [==============================] - 1s 5ms/step - loss: 2.4748e-08 - val_loss: 1.5882e-07\n",
      "Epoch 36/100\n",
      "100/100 [==============================] - 1s 5ms/step - loss: 2.1415e-08 - val_loss: 1.5185e-07\n",
      "Epoch 37/100\n",
      "100/100 [==============================] - 1s 5ms/step - loss: 2.0343e-08 - val_loss: 1.4188e-07\n",
      "Epoch 38/100\n",
      "100/100 [==============================] - 1s 5ms/step - loss: 1.9102e-08 - val_loss: 1.3553e-07\n",
      "Epoch 39/100\n",
      "100/100 [==============================] - 1s 5ms/step - loss: 1.7247e-08 - val_loss: 1.2548e-07\n",
      "Epoch 40/100\n",
      "100/100 [==============================] - 1s 5ms/step - loss: 1.5670e-08 - val_loss: 1.1878e-07\n",
      "Epoch 41/100\n",
      "100/100 [==============================] - 1s 5ms/step - loss: 1.5278e-08 - val_loss: 1.1357e-07\n",
      "Epoch 42/100\n",
      "100/100 [==============================] - 1s 5ms/step - loss: 1.4241e-08 - val_loss: 1.0941e-07\n",
      "Epoch 43/100\n",
      "100/100 [==============================] - 1s 5ms/step - loss: 1.2025e-08 - val_loss: 1.0238e-07\n",
      "Epoch 44/100\n",
      "100/100 [==============================] - 1s 5ms/step - loss: 1.2019e-08 - val_loss: 9.8321e-08\n",
      "Epoch 45/100\n",
      "100/100 [==============================] - 1s 5ms/step - loss: 1.0120e-08 - val_loss: 9.3239e-08\n",
      "Epoch 46/100\n",
      "100/100 [==============================] - 1s 5ms/step - loss: 9.4265e-09 - val_loss: 8.9976e-08\n",
      "Epoch 47/100\n",
      "100/100 [==============================] - 1s 5ms/step - loss: 1.0524e-08 - val_loss: 8.7535e-08\n",
      "Epoch 48/100\n",
      "100/100 [==============================] - 1s 5ms/step - loss: 9.4789e-09 - val_loss: 8.0536e-08\n",
      "Epoch 49/100\n",
      "100/100 [==============================] - 1s 5ms/step - loss: 8.4596e-09 - val_loss: 7.6661e-08\n",
      "Epoch 50/100\n",
      "100/100 [==============================] - 1s 5ms/step - loss: 8.3893e-09 - val_loss: 7.3821e-08\n",
      "Epoch 51/100\n",
      "100/100 [==============================] - 1s 5ms/step - loss: 7.4629e-09 - val_loss: 7.1791e-08\n",
      "Epoch 52/100\n",
      "100/100 [==============================] - 1s 5ms/step - loss: 7.3387e-09 - val_loss: 6.8439e-08\n",
      "Epoch 53/100\n",
      "100/100 [==============================] - 1s 5ms/step - loss: 6.8719e-09 - val_loss: 6.5374e-08\n",
      "Epoch 54/100\n",
      "100/100 [==============================] - 1s 5ms/step - loss: 6.5027e-09 - val_loss: 6.3124e-08\n",
      "Epoch 55/100\n",
      "100/100 [==============================] - 1s 5ms/step - loss: 5.7997e-09 - val_loss: 6.0581e-08\n",
      "Epoch 56/100\n",
      "100/100 [==============================] - 1s 5ms/step - loss: 5.6415e-09 - val_loss: 5.7169e-08\n",
      "Epoch 57/100\n",
      "100/100 [==============================] - 1s 5ms/step - loss: 5.9479e-09 - val_loss: 5.4162e-08\n",
      "Epoch 58/100\n",
      "100/100 [==============================] - 1s 5ms/step - loss: 5.3383e-09 - val_loss: 5.1469e-08\n",
      "Epoch 59/100\n",
      "100/100 [==============================] - 1s 5ms/step - loss: 5.0695e-09 - val_loss: 4.9986e-08\n",
      "Epoch 60/100\n",
      "100/100 [==============================] - 1s 5ms/step - loss: 4.9754e-09 - val_loss: 4.7938e-08\n",
      "Epoch 61/100\n",
      "100/100 [==============================] - 1s 5ms/step - loss: 4.4134e-09 - val_loss: 4.6305e-08\n",
      "Epoch 62/100\n",
      "100/100 [==============================] - 1s 5ms/step - loss: 4.0180e-09 - val_loss: 4.3713e-08\n",
      "Epoch 63/100\n",
      "100/100 [==============================] - 1s 5ms/step - loss: 4.0582e-09 - val_loss: 4.2524e-08\n",
      "Epoch 64/100\n",
      "100/100 [==============================] - 1s 5ms/step - loss: 4.1956e-09 - val_loss: 4.1438e-08\n",
      "Epoch 65/100\n",
      "100/100 [==============================] - 1s 5ms/step - loss: 4.0083e-09 - val_loss: 3.8836e-08\n",
      "Epoch 66/100\n",
      "100/100 [==============================] - 1s 5ms/step - loss: 3.6077e-09 - val_loss: 3.7280e-08\n",
      "Epoch 67/100\n",
      "100/100 [==============================] - 1s 5ms/step - loss: 3.3017e-09 - val_loss: 3.5608e-08\n",
      "Epoch 68/100\n",
      "100/100 [==============================] - 1s 5ms/step - loss: 3.2341e-09 - val_loss: 3.5002e-08\n",
      "Epoch 69/100\n",
      "100/100 [==============================] - 1s 5ms/step - loss: 2.8095e-09 - val_loss: 3.3343e-08\n",
      "Epoch 70/100\n",
      "100/100 [==============================] - 1s 5ms/step - loss: 2.6186e-09 - val_loss: 3.2301e-08\n",
      "Epoch 71/100\n",
      "100/100 [==============================] - 1s 5ms/step - loss: 2.6192e-09 - val_loss: 3.0960e-08\n",
      "Epoch 72/100\n",
      "100/100 [==============================] - 1s 5ms/step - loss: 2.4845e-09 - val_loss: 2.9578e-08\n",
      "Epoch 73/100\n",
      "100/100 [==============================] - 1s 5ms/step - loss: 2.5662e-09 - val_loss: 2.8713e-08\n",
      "Epoch 74/100\n",
      "100/100 [==============================] - 1s 5ms/step - loss: 2.2983e-09 - val_loss: 2.7477e-08\n",
      "Epoch 75/100\n",
      "100/100 [==============================] - 1s 5ms/step - loss: 2.3866e-09 - val_loss: 2.6974e-08\n",
      "Epoch 76/100\n",
      "100/100 [==============================] - 1s 5ms/step - loss: 1.9722e-09 - val_loss: 2.5794e-08\n",
      "Epoch 77/100\n",
      "100/100 [==============================] - 1s 5ms/step - loss: 1.8392e-09 - val_loss: 2.4677e-08\n",
      "Epoch 78/100\n",
      "100/100 [==============================] - 1s 5ms/step - loss: 1.7316e-09 - val_loss: 2.4378e-08\n",
      "Epoch 79/100\n",
      "100/100 [==============================] - 1s 5ms/step - loss: 1.6961e-09 - val_loss: 2.3052e-08\n",
      "Epoch 80/100\n",
      "100/100 [==============================] - 1s 5ms/step - loss: 1.7795e-09 - val_loss: 2.2348e-08\n",
      "Epoch 81/100\n",
      "100/100 [==============================] - 1s 5ms/step - loss: 1.8794e-09 - val_loss: 2.1787e-08\n",
      "Epoch 82/100\n",
      "100/100 [==============================] - 1s 5ms/step - loss: 1.4609e-09 - val_loss: 2.0956e-08\n",
      "Epoch 83/100\n",
      "100/100 [==============================] - 1s 5ms/step - loss: 1.4513e-09 - val_loss: 2.0228e-08\n",
      "Epoch 84/100\n",
      "100/100 [==============================] - 1s 5ms/step - loss: 1.3782e-09 - val_loss: 1.9471e-08\n",
      "Epoch 85/100\n",
      "100/100 [==============================] - 1s 5ms/step - loss: 1.2003e-09 - val_loss: 1.8959e-08\n",
      "Epoch 86/100\n",
      "100/100 [==============================] - 1s 5ms/step - loss: 1.3301e-09 - val_loss: 1.8145e-08\n",
      "Epoch 87/100\n",
      "100/100 [==============================] - 1s 5ms/step - loss: 1.2174e-09 - val_loss: 1.7412e-08\n",
      "Epoch 88/100\n",
      "100/100 [==============================] - 1s 5ms/step - loss: 1.0406e-09 - val_loss: 1.6334e-08\n",
      "Epoch 89/100\n",
      "100/100 [==============================] - 1s 5ms/step - loss: 1.0101e-09 - val_loss: 1.6160e-08\n",
      "Epoch 90/100\n",
      "100/100 [==============================] - 1s 5ms/step - loss: 1.1277e-09 - val_loss: 1.5750e-08\n",
      "Epoch 91/100\n",
      "100/100 [==============================] - 1s 5ms/step - loss: 9.3216e-10 - val_loss: 1.5311e-08\n",
      "Epoch 92/100\n",
      "100/100 [==============================] - 1s 5ms/step - loss: 9.6220e-10 - val_loss: 1.4949e-08\n",
      "Epoch 93/100\n",
      "100/100 [==============================] - 1s 5ms/step - loss: 8.6323e-10 - val_loss: 1.4392e-08\n",
      "Epoch 94/100\n",
      "100/100 [==============================] - 1s 5ms/step - loss: 8.9407e-10 - val_loss: 1.4177e-08\n",
      "Epoch 95/100\n",
      "100/100 [==============================] - 1s 5ms/step - loss: 8.1215e-10 - val_loss: 1.3825e-08\n",
      "Epoch 96/100\n",
      "100/100 [==============================] - 1s 5ms/step - loss: 7.2664e-10 - val_loss: 1.2920e-08\n",
      "Epoch 97/100\n",
      "100/100 [==============================] - 1s 5ms/step - loss: 8.2989e-10 - val_loss: 1.2398e-08\n",
      "Epoch 98/100\n",
      "100/100 [==============================] - 1s 5ms/step - loss: 7.4189e-10 - val_loss: 1.2012e-08\n",
      "Epoch 99/100\n",
      "100/100 [==============================] - 1s 5ms/step - loss: 7.2166e-10 - val_loss: 1.1302e-08\n",
      "Epoch 100/100\n",
      "100/100 [==============================] - 1s 5ms/step - loss: 6.0397e-10 - val_loss: 1.0927e-08\n"
     ]
    },
    {
     "data": {
      "text/plain": [
       "<keras.callbacks.History at 0x160962c37c0>"
      ]
     },
     "execution_count": 33,
     "metadata": {},
     "output_type": "execute_result"
    }
   ],
   "source": [
    "siamese_network.fit([x_train[:, 0], x_train[:, 1], x_train[:, 2]], y_train, batch_size=32, epochs=100, verbose=1,validation_data=([x_test[:, 0], x_test[:, 1], x_test[:, 2]], y_test))\n",
    "# siamese_network.fit([triplets[:, 0], triplets[:, 1], triplets[:, 2]], np.zeros((triplets.shape[0], 1)), batch_size=32, epochs=100, verbose=1)"
   ]
  },
  {
   "cell_type": "code",
   "execution_count": 56,
   "metadata": {},
   "outputs": [
    {
     "data": {
      "image/png": "[encoded data removed]",
      "text/plain": [
       "<Figure size 640x480 with 1 Axes>"
      ]
     },
     "metadata": {},
     "output_type": "display_data"
    }
   ],
   "source": [
    "plt.plot(siamese_network.history.history['loss'])\n",
    "plt.plot(siamese_network.history.history['val_loss'])\n",
    "plt.title('model loss')\n",
    "plt.ylabel('loss')\n",
    "plt.xlabel('epoch')\n",
    "plt.legend(['train', 'test'], loc='upper left')\n",
    "plt.show()"
   ]
  },
  {
   "cell_type": "code",
   "execution_count": 10,
   "metadata": {},
   "outputs": [
    {
     "name": "stdout",
     "output_type": "stream",
     "text": [
      "WARNING:tensorflow:Compiled the loaded model, but the compiled metrics have yet to be built. `model.compile_metrics` will be empty until you train or evaluate the model.\n"
     ]
    }
   ],
   "source": [
    "base_network.save('./models/base_network.h5')"
   ]
  },
  {
   "cell_type": "code",
   "execution_count": 61,
   "metadata": {},
   "outputs": [
    {
     "name": "stdout",
     "output_type": "stream",
     "text": [
      "(64, 64, 1)\n",
      "1/1 [==============================] - 0s 11ms/step\n",
      "1/1 [==============================] - 0s 16ms/step\n",
      "1/1 [==============================] - 0s 23ms/step\n",
      "5.800606\n",
      "37.426735\n"
     ]
    }
   ],
   "source": [
    "print(data[0].shape)\n",
    "x = data[11]\n",
    "x = np.reshape(x, (1, 64, 64, 1))\n",
    "yhat1 = base_network.predict(x)\n",
    "\n",
    "x = data[18]\n",
    "x = np.reshape(x, (1, 64, 64, 1))\n",
    "yhat2 = base_network.predict(x)\n",
    "\n",
    "x = data[290]\n",
    "x = np.reshape(x, (1, 64, 64, 1))\n",
    "yhat3 = base_network.predict(x)\n",
    "\n",
    "def distance(yhat1, yhat2):\n",
    "    return np.sqrt(np.sum(np.square(yhat1 - yhat2)))\n",
    "\n",
    "print(distance(yhat1, yhat2))\n",
    "print(distance(yhat1, yhat3))"
   ]
  },
  {
   "cell_type": "code",
   "execution_count": 58,
   "metadata": {},
   "outputs": [
    {
     "name": "stdout",
     "output_type": "stream",
     "text": [
      "9.132772\n",
      "31.639164\n"
     ]
    }
   ],
   "source": []
  }
 ],
 "metadata": {
  "kernelspec": {
   "display_name": "tensor",
   "language": "python",
   "name": "python3"
  },
  "language_info": {
   "codemirror_mode": {
    "name": "ipython",
    "version": 3
   },
   "file_extension": ".py",
   "mimetype": "text/x-python",
   "name": "python",
   "nbconvert_exporter": "python",
   "pygments_lexer": "ipython3",
   "version": "3.10.6"
  }
 },
 "nbformat": 4,
 "nbformat_minor": 2
}
