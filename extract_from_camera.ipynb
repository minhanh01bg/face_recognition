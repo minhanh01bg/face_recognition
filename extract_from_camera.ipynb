{
 "cells": [
  {
   "cell_type": "code",
   "execution_count": null,
   "metadata": {},
   "outputs": [],
   "source": [
    "import cv2\n",
    "import pandas as pd\n",
    "import numpy as np\n",
    "import os\n",
    "import matplotlib.pyplot as plt\n",
    "from face_process import Face_affine"
   ]
  },
  {
   "cell_type": "code",
   "execution_count": null,
   "metadata": {},
   "outputs": [],
   "source": [
    "video_path = 0\n",
    "video = cv2.VideoCapture(video_path)\n",
    "\n",
    "\n",
    "folder = 'extract'\n",
    "if not os.path.exists(f'./data_true/' + folder):\n",
    "    mkdir = f'./data_true/' + folder\n",
    "    os.makedirs(mkdir)\n",
    "else:\n",
    "    # remove all files in folder\n",
    "    files = os.listdir(f'./data_true/' + folder)\n",
    "    for f in files:\n",
    "        os.remove(f'./data_true/' + folder + '/' + f)\n",
    "    \n",
    "openface = Face_affine()\n",
    "cnt = 0\n",
    "while True:\n",
    "    ret, frame = video.read()\n",
    "    if ret == False:\n",
    "        break\n",
    "    \n",
    "    openface.update_image(frame)\n",
    "    \n",
    "    reacts = openface.get_reacts()\n",
    "    if len(reacts) == 0:\n",
    "        print('no face')\n",
    "        if cv2.waitKey(1) & 0xFF == ord('q'):\n",
    "            break\n",
    "        continue\n",
    "    \n",
    "    shapes = openface.get_shapes(reacts)\n",
    "    \n",
    "    for i in range(len(shapes)):\n",
    "        image_drop,shape_drop = openface.get_shape_drop(openface.gray,shapes[i],reacts[i])\n",
    "        image_rotating_scaling,rect_scale = openface.rotating_scaling(image_drop,shape_drop,reacts[i])\n",
    "        img = openface.drop_padding_black(image_rotating_scaling)\n",
    "        cv2.imwrite(f'./data_true/{folder}/frame{cnt}.jpg',img)\n",
    "    cnt += 1\n",
    "\n",
    "    # cv2.imshow('frame', frame)\n",
    "    if cv2.waitKey(1) & 0xFF == ord('q'):\n",
    "        break"
   ]
  }
 ],
 "metadata": {
  "language_info": {
   "name": "python"
  }
 },
 "nbformat": 4,
 "nbformat_minor": 2
}
